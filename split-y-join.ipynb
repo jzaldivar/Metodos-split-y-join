{
 "cells": [
  {
   "cell_type": "markdown",
   "metadata": {},
   "source": [
    "# Análisis de líneas de texto\n",
    "\n",
    "En el procesamiento de archivos de datos, es común que se presenten en una única línea de texto varios valores separados mediante un carácter \"especial\", como puede ser una coma (`,`), una diagonal invertida (`\\`), una barra vertical (`|`) o un simple espacio. Por ejemplo:\n",
    "\n",
    "```\n",
    "1,2,3,5\n",
    "Hernández\\Ramírez\\Pedro\n",
    "12.8|65.2|-123\n",
    "a b c xyz\n",
    "```\n",
    "\n",
    "Como ya se ha comentado, con las estructuras estudiadas (secuenciales, de decisión y repetitivas) es posible codificar cualquier algoritmo. Podríamos utlizar, por ejemplo, un código como el siguiente:"
   ]
  },
  {
   "cell_type": "code",
   "execution_count": null,
   "metadata": {},
   "outputs": [],
   "source": [
    "entrada = \"Black Panther$Black Widow$Captain America$Captain Marvel$Doctor Strange$Spiderman\"\n",
    "separador = \"$\"\n",
    "valores = []\n",
    "valor = \"\"\n",
    "for caracter in entrada:\n",
    "    # Analizar cada uno de los caracteres de la cadena\n",
    "    if caracter == separador:\n",
    "        # Si se encuentra un separador, ya se terminó el valor que se estaba leyendo,\n",
    "        # agregarlo a la lista...\n",
    "        valores.append(valor)\n",
    "        # ... y comenzar a leer un nuevo valor.\n",
    "        valor = \"\"\n",
    "    else:\n",
    "        # Si no es un separador, el caracter forma parte del valor actual\n",
    "        valor += caracter\n",
    "print(valores)"
   ]
  },
  {
   "cell_type": "markdown",
   "metadata": {},
   "source": [
    "# El método `split`\n",
    "Sin embargo, esta es una situación tan común que varios lenguajes de programación implementan funciones nativas para realizar este procedimiento. En particular, en Python tenemos el método `split` de la clase `str`, que nos permite simplificar el código anterior:"
   ]
  },
  {
   "cell_type": "code",
   "execution_count": null,
   "metadata": {},
   "outputs": [],
   "source": [
    "valores = entrada.split(separador)\n",
    "print(valores)"
   ]
  },
  {
   "cell_type": "markdown",
   "metadata": {},
   "source": [
    "El parámetro de `split` es el carácter (o caracteres) que se utilizarán para separar los valores presentes en la cadena. Si se omite, por omisión se considera que los valores están separados entre sí por un espacio.\n",
    "\n",
    "Es importante hacer notar que, aunque el método `split` produce como salida una **lista** (`list`), se trata de un método de **cadena** (`str`). Como tal, la lista generada es una lista de cadenas (`str`). Si los valores analizados son números, habrá que efectuar la conversión correspondiente. Por ejemplo:"
   ]
  },
  {
   "cell_type": "code",
   "execution_count": null,
   "metadata": {},
   "outputs": [],
   "source": [
    "entrada = \"1 2 3 4 5 6 7 8\"\n",
    "valores = entrada.split()   # El separador es un espacio, no hace falta especificarlo\n",
    "print(\"split genera una lista de cadenas:\", valores)\n",
    "numeros = []\n",
    "for i in valores:\n",
    "    numeros.append(int(i))\n",
    "print(\"Cada valor de la lista ha sido convertido a entero:\", numeros)"
   ]
  },
  {
   "cell_type": "markdown",
   "metadata": {},
   "source": [
    "Hay dos patrones comunes en Python para efectuar esta operación.\n",
    "\n",
    "El más moderno es la combinación de `split` con **_expansión de listas_** (_list comprehension_). Por ejemplo:"
   ]
  },
  {
   "cell_type": "code",
   "execution_count": null,
   "metadata": {},
   "outputs": [],
   "source": [
    "numeros = [int(i) for i in entrada.split()]\n",
    "\n",
    "print(\"entrada         =\", entrada)\n",
    "print(\"entrada.split() =\", entrada.split())\n",
    "print(\"numeros         =\", numeros)"
   ]
  },
  {
   "cell_type": "markdown",
   "metadata": {},
   "source": [
    "Hay también otro patrón que ha caído un tanto en desuso pero que aún es común encontrar: el uso de la función `map`, que aplica una función, como pueden ser `int` o `float`, a todos los elementos de un iterable.\n",
    "\n",
    "> ***Nota***: Como `map` regresa un *iterador*, normalmente, se le aplica la función constructora `list` para convertirlo en una lista."
   ]
  },
  {
   "cell_type": "code",
   "execution_count": null,
   "metadata": {},
   "outputs": [],
   "source": [
    "numeros = list(map(int, entrada.split()))\n",
    "\n",
    "print(\"entrada         =\", entrada)\n",
    "print(\"entrada.split() =\", entrada.split())\n",
    "print(\"numeros         =\", numeros)"
   ]
  },
  {
   "cell_type": "markdown",
   "metadata": {},
   "source": [
    "# El método `join`\n",
    "\n",
    "Así como el método `split` se utiliza para _cortar_ una _cadena de valores_ y convertirla en una _lista de valores_, el método `join` nos permite volver a unir una lista de valores de texto en una única cadena de texto. \n",
    "\n",
    "El método `join` también es un método de cadena y la cadena base (a la que se le aplica el método) es el conector mediante el que se unirán los elementos de la lista. La lista es el argumento del método `join`."
   ]
  },
  {
   "cell_type": "code",
   "execution_count": null,
   "metadata": {},
   "outputs": [],
   "source": [
    "valores = [\"Ant-Man\", \"Wasp\", \"Scarlet Witch\"]\n",
    "conector = \"-*-\"\n",
    "cadena = conector.join(valores)\n",
    "print(cadena)"
   ]
  },
  {
   "cell_type": "markdown",
   "metadata": {},
   "source": [
    "Es posible utilizar el método `join` sobre la cadena vacía, de tal forma que únicamente se concatenan los valores de la lista sin ningún conector de por medio:"
   ]
  },
  {
   "cell_type": "code",
   "execution_count": null,
   "metadata": {},
   "outputs": [],
   "source": [
    "letras = [chr(i) for i in range(65, 75)]\n",
    "print(\"Lista:\", letras)\n",
    "cadena = \"\".join(letras)\n",
    "print(\"Cadena:\", cadena)"
   ]
  }
 ],
 "metadata": {
  "kernelspec": {
   "display_name": "base",
   "language": "python",
   "name": "python3"
  },
  "language_info": {
   "codemirror_mode": {
    "name": "ipython",
    "version": 3
   },
   "file_extension": ".py",
   "mimetype": "text/x-python",
   "name": "python",
   "nbconvert_exporter": "python",
   "pygments_lexer": "ipython3",
   "version": "3.10.9"
  },
  "orig_nbformat": 4
 },
 "nbformat": 4,
 "nbformat_minor": 2
}
